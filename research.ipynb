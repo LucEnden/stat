{
 "cells": [
  {
   "cell_type": "code",
   "execution_count": 1,
   "metadata": {},
   "outputs": [
    {
     "data": {
      "text/plain": [
       "{'from collections.abc import Iterable',\n",
       " 'from convokit import Corpus, download',\n",
       " 'from gensim.models import Word2Vec',\n",
       " 'from scipy.stats import iqr',\n",
       " 'from sklearn.decomposition import PCA',\n",
       " 'from tqdm import tqdm',\n",
       " 'import fasttext',\n",
       " 'import kagglehub',\n",
       " 'import matplotlib.pyplot as plt',\n",
       " 'import numpy as np',\n",
       " 'import os.path',\n",
       " 'import pandas as pd',\n",
       " 'import shutil'}"
      ]
     },
     "execution_count": 1,
     "metadata": {},
     "output_type": "execute_result"
    }
   ],
   "source": [
    "# print the version of ALL the libraries I will be using in this study\n",
    "import os\n",
    "import json\n",
    "\n",
    "notebook_path = os.path.abspath(\"./research.ipynb\")\n",
    "with open(notebook_path, 'r') as f:\n",
    "    notebook_content = json.loads(f.read())\n",
    "\n",
    "imports = set()\n",
    "# we can ignore this code block, which is the first element\n",
    "for i in list(notebook_content.values())[0][1:]:\n",
    "    if i[\"cell_type\"] == \"code\":\n",
    "        for line in i[\"source\"]:\n",
    "            if \"import\" in line and not line.startswith(\"#\"):\n",
    "                imports.add(line.strip())\n",
    "\n",
    "imports"
   ]
  },
  {
   "cell_type": "markdown",
   "metadata": {},
   "source": [
    "<!-- FIRST TITLE -->\n",
    "<!-- # Preservation of Semantics Through Various Text Vectorization Methods on a Movie Dialouge Corpus: A Statistical Comparison -->\n",
    "\n",
    "<!-- SECOND TITLE -->\n",
    "<!-- # Output Of Different Semantic Text Vectorization Methods: A Statistical Comparison -->\n",
    "\n",
    "<!-- THIRD TITLE -->\n",
    "<!-- # Principle Component Analysis on The Output of Different Semantic Text Vectorization Methods: A Statistical Study -->\n",
    "\n",
    "<!-- FIRST CHATGPT TITLE -->\n",
    "# Quantifying Information Retention in Matrix Reconstruction: A Comparative Analysis of Semantic Vectorization Methods Using PCA\n",
    "TODO: this block is essentially the title page of the study paper, hence I need to add stuf here that is usually found on the title page of a study paper"
   ]
  },
  {
   "cell_type": "markdown",
   "metadata": {},
   "source": [
    "## Abstract\n",
    "TODO: add an abstract"
   ]
  },
  {
   "cell_type": "markdown",
   "metadata": {},
   "source": [
    "## Goal\n",
    "The goal of this research is to evaluate and compare the effectiveness of different semantic vectorization methods in retaining information during matrix reconstruction, by analyzing the number of Principal Component Analysis (PCA) components required to preserve at least 80% of the original information across various vectorization approaches.\n",
    "\n",
    "The semantic vectorization methods will be determined later in this document and will be treated as black boxes for the purpose of this study. The focus will be on the effectiveness of these methods in retaining information during matrix reconstruction, rather than the specifics of the vectorization techniques themselves."
   ]
  },
  {
   "cell_type": "markdown",
   "metadata": {},
   "source": [
    "![The flow of the experiment](./data_flow.png)"
   ]
  },
  {
   "cell_type": "markdown",
   "metadata": {},
   "source": [
    "## Type of study\n",
    "This study uses statistical methods to compare the outcomes of different text vectorization methods, focusing on the statistical comparison of matrices. Additionally, it incorporates hypothesis testing on the corpus to validate underlying assumptions."
   ]
  },
  {
   "cell_type": "markdown",
   "metadata": {},
   "source": [
    "<!-- FEEDBACK FROM TEACHER: be wary of the fact that you dont change your hypothesis midway trough your study based on findings -->\n",
    "## Hypotheses\n",
    "\n",
    "The following hypotheses are tested in this research:\n",
    "<!-- 1. All the different text vectorization methods will produce a sparse matrix as output. -->\n",
    "<!-- QUESTION FOR TEACHER: this isnt really a statistical question is it? depending on how a sparse matrix is defined and how you detirmine this, this either is or isnt a question of statistics -->\n",
    "<!-- FEEDBACK: do you need to see this as a sparse matrix, or can you just view it as a matrix -->\n",
    "\n",
    "<!-- 1. The resulting matrixes from different text vectorization methods are statistically different. -->\n",
    "<!-- QUESTION FOR TEACHER: this seems like a proper null hypotheses I can test using statistical methods, like comparing disrtibutions on a corpus entry level -->\n",
    "<!-- FEEDBACK: its a bit to vague, lets brainstorm some ideas for a hypotheses together -->\n",
    "\n",
    "<!-- Brainstorm for hypotheses:\n",
    "Hoeveel informatie zit er in de matrix? In andere woorden:\n",
    "- Ik heb 100 cooficienten (losse vector waardes), hoeveel cooficienten heb ik nodig om de matrix terug te construeren zonder informatie te verliezen?\n",
    "    - Voor iedere vectorizatie methode, hoeveel PCA componenten heb ik nodig om minimaal 80% van de informatie te behouden?\n",
    "    - Welke van de vectorisatie methodes heeft het minsten componenten nodig?\n",
    "- Is de ene matrix meer sparser dan de ander?\n",
    "-->\n",
    "\n",
    "<!-- TODO: put the stuf bellow in a more formal hypotheses (incorperate the use of principal component analysis as reduction method and 'explained mean variance' for matrix reconstruction method) -->\n",
    "\n",
    "<!-- 1. The length of documents in my corpus follow a pareto distribution -->\n",
    "<!-- HYPOTHESES 1 is used to show learning outcome mastery. Putting it into other words: 20% of the sentences contain 80% of the total grammatical content -->\n",
    "<!-- 2. Does Zyphs law hold true for my corpus -->\n",
    "<!-- HYPOTHESES 2 is somewhat similair to 1 (both are essentially the 80/20 rule), but zyphs states that 80% of the grammatical content is represented by 20% of the set of words -->\n",
    "<!-- 3. How much information is in the matrix? In other words:\n",
    "    - I have 100 cooficients (single vector values), how many cooficients do I need to construct the matrix back without losing information?\n",
    "    - For each vectorization method, how many PCA components do I need to retain at least 80% of the information?\n",
    "    - Which of the vectorization methods needs the fewest components? -->\n",
    "<!-- HYPOTHESES 3 is their for when I have time to spare -->\n",
    "\n",
    "<!-- \n",
    "Hypohteses bellow is an old one but is not really an interesting hypotheses, its simply a sanity check to do as intermediate steps\n",
    "- Is one matrix more sparser than the other? \n",
    "-->\n",
    "\n",
    "<!--\n",
    "Feedback Mark op research status:\n",
    "- test of corpus pareto distributie is (aldus de len(utter) distributie)\n",
    "- als ik een distributie heb (hypothese is dat dit pareto distributie is, null variant is dit is niet ...), hoe test ik dit?\n",
    "\tDit is eigenlijk niet meer dan de formule opzoeken voor het checken van pareto distributie en toepassen\n",
    "\tOm dit in hypothese te verwoorden:\n",
    "\t- wat is mijn verwachte distributie\n",
    "\t- wat is mijn reeele distributie\n",
    "\t- gebruik deze om de P waarde te berekenen (P waarde dat dit wel/geen pareto is)\n",
    "- Antwoord op vraag op of je zelf preprocessing moet doen of dat je dit mag aanschouwen als onderdeel van de black box: aanschouw preprocessing als onderdeel van de blackbox\n",
    "- spelling correctie toepassen (discriptive = descriptive)\n",
    "\n",
    "---\n",
    "Samengevat:\n",
    "Voor leeruitkomste: pareto distributie hypothese test uitvoeren op corpus\n",
    "Voor de leuk: de rest (aldus volledig experiment, inclusief PCA en explained mean variance)\n",
    "-->\n",
    "\n",
    "| ID | Description                                                                                      | Type              |\n",
    "|----|--------------------------------------------------------------------------------------------------|-------------------|\n",
    "| 1  | The lengths of the documents in the movie utterance corpus do not follow a pareto distribution   | Null hypotheses   |\n",
    "| 2  | Zyphs law does not hold true for the movie utterance corpus                                      | Null hypotheses   |\n",
    "| 3  | ...                                                                                              | ...               |\n",
    "\n",
    "Each hypothesis will be tested in its own chapter later in this document."
   ]
  },
  {
   "cell_type": "markdown",
   "metadata": {},
   "source": [
    "## Text vectorization methods\n",
    "\n",
    "In this study, we will be using the following text vectorization methods:- \n",
    "- Word2Vec: A neural network-based method that learns word embeddings by predicting neighboring words.\n",
    "- CBOW (Continuous Bag of Words): A variant of Word2Vec that predicts a word based on its context.\n",
    "- GloVe: A matrix factorization-based model that learns word vectors by capturing global word co-occurrence statistics.\n",
    "- FastText (Skip-gram): An extension of Word2Vec that also considers subword information to generate word embeddings.\n",
    "\n",
    "### Implementation providers\n",
    "\n",
    "We will use the following implementation providers for the text vectorization methods:\n",
    "```bash\n",
    "# Install Gensim for Word2Vec and CBOW\n",
    "pip install gensim\n",
    "\n",
    "# GloVe pretrained vectors provided by Kaggle\n",
    "# (Include link to dataset in final document)\n",
    "\n",
    "# Install FastText\n",
    "pip install fasttext-wheel\n",
    "```\n",
    "\n",
    "### Notes on preprocessing\n",
    "\n",
    "Minimal to no preprocessing will be done on the movie dialogue corpus, as the focus of this study is on the effectiveness of the vectorization methods in retaining information during matrix reconstruction. Preprocessing steps such as tokenization, stop-word removal, and stemming will be considered part of the black box of the vectorization methods."
   ]
  },
  {
   "cell_type": "markdown",
   "metadata": {},
   "source": [
    "## Data gathering\n",
    "\n",
    "For my corpus I will be using a [dataset consisting of conversational movie dialouge](https://convokit.cornell.edu/documentation/movie.html).\n",
    "My choice for this dataset is mostly cause of convenience sakes."
   ]
  },
  {
   "cell_type": "code",
   "execution_count": 2,
   "metadata": {},
   "outputs": [
    {
     "name": "stdout",
     "output_type": "stream",
     "text": [
      "Data folder already exists\n"
     ]
    }
   ],
   "source": [
    "import os.path\n",
    "\n",
    "study_data_dir = os.path.abspath(\"./data\") # We use absolute path to avoid any potential path issues\n",
    "\n",
    "# Create data folder if it does not exist\n",
    "if not os.path.exists(study_data_dir):\n",
    "    print(\"Creating data folder\")\n",
    "    os.makedirs(study_data_dir)\n",
    "else:\n",
    "    print(\"Data folder already exists\")"
   ]
  },
  {
   "cell_type": "code",
   "execution_count": 3,
   "metadata": {},
   "outputs": [
    {
     "name": "stdout",
     "output_type": "stream",
     "text": [
      "Corpus already downloaded.\n",
      "Corpus is loaded!\n"
     ]
    }
   ],
   "source": [
    "from convokit import Corpus, download\n",
    "\n",
    "corpus_name = \"movie-corpus\"\n",
    "corpus_fpath = study_data_dir + os.path.sep + corpus_name + \".zip\"\n",
    "\n",
    "# Download the corpus if it doesn't exist\n",
    "if not os.path.exists(corpus_fpath):\n",
    "    print(\"Downloading corpus...\")\n",
    "    corpus = Corpus(filename=download(corpus_name, data_dir=study_data_dir))\n",
    "else:\n",
    "    print(\"Corpus already downloaded.\")\n",
    "    corpus_dir = study_data_dir + os.path.sep + corpus_name + os.path.sep\n",
    "    corpus = Corpus(filename=corpus_dir) \n",
    "    # the file parameter can be quite confusing, as it actually expects the unziped corpus as a directory\n",
    "\n",
    "print(\"Corpus is loaded!\")"
   ]
  },
  {
   "cell_type": "code",
   "execution_count": 4,
   "metadata": {},
   "outputs": [
    {
     "name": "stdout",
     "output_type": "stream",
     "text": [
      "Number of Speakers: 9035\n",
      "Number of Utterances: 304713\n",
      "Number of Conversations: 83097\n"
     ]
    }
   ],
   "source": [
    "corpus.print_summary_stats()\n",
    "# Number of Speakers: 9035\n",
    "# Number of Utterances: 304713\n",
    "# Number of Conversations: 83097"
   ]
  },
  {
   "cell_type": "markdown",
   "metadata": {},
   "source": [
    "We will be using the `corpus.iter_utterances()` method to generate a list of strings, which will be used as the input for the different text vectorization methods."
   ]
  },
  {
   "cell_type": "code",
   "execution_count": 5,
   "metadata": {},
   "outputs": [
    {
     "data": {
      "text/html": [
       "<div>\n",
       "<style scoped>\n",
       "    .dataframe tbody tr th:only-of-type {\n",
       "        vertical-align: middle;\n",
       "    }\n",
       "\n",
       "    .dataframe tbody tr th {\n",
       "        vertical-align: top;\n",
       "    }\n",
       "\n",
       "    .dataframe thead th {\n",
       "        text-align: right;\n",
       "    }\n",
       "</style>\n",
       "<table border=\"1\" class=\"dataframe\">\n",
       "  <thead>\n",
       "    <tr style=\"text-align: right;\">\n",
       "      <th></th>\n",
       "      <th>utterances</th>\n",
       "      <th>utter_lens</th>\n",
       "    </tr>\n",
       "  </thead>\n",
       "  <tbody>\n",
       "    <tr>\n",
       "      <th>0</th>\n",
       "      <td>They do not!</td>\n",
       "      <td>12</td>\n",
       "    </tr>\n",
       "    <tr>\n",
       "      <th>1</th>\n",
       "      <td>They do to!</td>\n",
       "      <td>11</td>\n",
       "    </tr>\n",
       "    <tr>\n",
       "      <th>2</th>\n",
       "      <td>I hope so.</td>\n",
       "      <td>10</td>\n",
       "    </tr>\n",
       "    <tr>\n",
       "      <th>3</th>\n",
       "      <td>She okay?</td>\n",
       "      <td>9</td>\n",
       "    </tr>\n",
       "    <tr>\n",
       "      <th>4</th>\n",
       "      <td>Let's go.</td>\n",
       "      <td>9</td>\n",
       "    </tr>\n",
       "    <tr>\n",
       "      <th>...</th>\n",
       "      <td>...</td>\n",
       "      <td>...</td>\n",
       "    </tr>\n",
       "    <tr>\n",
       "      <th>304708</th>\n",
       "      <td>Lord Chelmsford seems to want me to stay back ...</td>\n",
       "      <td>62</td>\n",
       "    </tr>\n",
       "    <tr>\n",
       "      <th>304709</th>\n",
       "      <td>I'm to take the Sikali with the main column to...</td>\n",
       "      <td>56</td>\n",
       "    </tr>\n",
       "    <tr>\n",
       "      <th>304710</th>\n",
       "      <td>Your orders, Mr Vereker?</td>\n",
       "      <td>24</td>\n",
       "    </tr>\n",
       "    <tr>\n",
       "      <th>304711</th>\n",
       "      <td>Good ones, yes, Mr Vereker. Gentlemen who can ...</td>\n",
       "      <td>60</td>\n",
       "    </tr>\n",
       "    <tr>\n",
       "      <th>304712</th>\n",
       "      <td>Colonel Durnford... William Vereker. I hear yo...</td>\n",
       "      <td>74</td>\n",
       "    </tr>\n",
       "  </tbody>\n",
       "</table>\n",
       "<p>304713 rows × 2 columns</p>\n",
       "</div>"
      ],
      "text/plain": [
       "                                               utterances  utter_lens\n",
       "0                                            They do not!          12\n",
       "1                                             They do to!          11\n",
       "2                                              I hope so.          10\n",
       "3                                               She okay?           9\n",
       "4                                               Let's go.           9\n",
       "...                                                   ...         ...\n",
       "304708  Lord Chelmsford seems to want me to stay back ...          62\n",
       "304709  I'm to take the Sikali with the main column to...          56\n",
       "304710                           Your orders, Mr Vereker?          24\n",
       "304711  Good ones, yes, Mr Vereker. Gentlemen who can ...          60\n",
       "304712  Colonel Durnford... William Vereker. I hear yo...          74\n",
       "\n",
       "[304713 rows x 2 columns]"
      ]
     },
     "execution_count": 5,
     "metadata": {},
     "output_type": "execute_result"
    }
   ],
   "source": [
    "import pandas as pd\n",
    "\n",
    "corpus_df = pd.DataFrame(\n",
    "    data={\n",
    "        \"utterances\": [str(utt.text) for utt in corpus.iter_utterances()],\n",
    "        \"utter_lens\": [len(utt.text) for utt in corpus.iter_utterances()]\n",
    "    }\n",
    ")\n",
    "corpus_df"
   ]
  },
  {
   "cell_type": "markdown",
   "metadata": {},
   "source": [
    "### Descriptive Statistics\n",
    "\n",
    "In this section, we will explore the corpus using descriptive statistics to gain a better understanding of the data. Additionally, we will visualize the distribution of document lengths using a histogram to provide insights into their variability and potential outliers."
   ]
  },
  {
   "cell_type": "code",
   "execution_count": 6,
   "metadata": {},
   "outputs": [
    {
     "name": "stdout",
     "output_type": "stream",
     "text": [
      "Their are 304713 utterances in the corpus\n"
     ]
    }
   ],
   "source": [
    "print(f\"Their are {corpus_df.shape[0]} utterances in the corpus\")\n",
    "# expected to be the same as in the `corpus.print_summary_stats()` output, i.e. 304713"
   ]
  },
  {
   "cell_type": "code",
   "execution_count": 7,
   "metadata": {},
   "outputs": [
    {
     "name": "stdout",
     "output_type": "stream",
     "text": [
      "Filtered out 267 empty utterances\n"
     ]
    }
   ],
   "source": [
    "# Filter out empty & only whitespace utterances\n",
    "n_utterances_before = corpus_df.shape[0]\n",
    "corpus_df = corpus_df[corpus_df['utterances'].str.strip() != \"\"].reset_index(drop=True)\n",
    "n_utterances_after = corpus_df.shape[0]\n",
    "\n",
    "print(f\"Filtered out {n_utterances_before - n_utterances_after} empty utterances\")"
   ]
  },
  {
   "cell_type": "code",
   "execution_count": 8,
   "metadata": {},
   "outputs": [
    {
     "name": "stdout",
     "output_type": "stream",
     "text": [
      "Filtered out 0 utterances that only consist of special characters\n"
     ]
    }
   ],
   "source": [
    "# Filter out any utterances that ONLY consist of special characters\n",
    "n_utterances_before = corpus_df.shape[0]\n",
    "corpus_df = corpus_df[corpus_df['utterances'].str.replace(r'[^a-zA-Z0-9]', '').str.strip() != \"\"].reset_index(drop=True)\n",
    "n_utterances_after = corpus_df.shape[0]\n",
    "\n",
    "print(f\"Filtered out {n_utterances_before - n_utterances_after} utterances that only consist of special characters\")"
   ]
  },
  {
   "cell_type": "code",
   "execution_count": 9,
   "metadata": {},
   "outputs": [
    {
     "data": {
      "text/plain": [
       "count    304446.000000\n",
       "mean         55.308002\n",
       "std          64.073898\n",
       "min           1.000000\n",
       "25%          19.000000\n",
       "50%          35.000000\n",
       "75%          69.000000\n",
       "max        3046.000000\n",
       "Name: utter_lens, dtype: float64"
      ]
     },
     "execution_count": 9,
     "metadata": {},
     "output_type": "execute_result"
    }
   ],
   "source": [
    "corpus_df[\"utter_lens\"].describe()"
   ]
  },
  {
   "cell_type": "code",
   "execution_count": 10,
   "metadata": {},
   "outputs": [
    {
     "data": {
      "image/png": "[encoded data removed]",
      "text/plain": [
       "<Figure size 640x480 with 3 Axes>"
      ]
     },
     "metadata": {},
     "output_type": "display_data"
    }
   ],
   "source": [
    "import matplotlib.pyplot as plt\n",
    "from scipy.stats import iqr\n",
    "\n",
    "fig, (ax1, ax2, ax3) = plt.subplots(1, 3)\n",
    "bins = 100\n",
    "\n",
    "# ax1 is the complete plot, including outliers\n",
    "ax1.hist(corpus_df[\"utter_lens\"].values, bins=bins)\n",
    "ax1.title.set_text(\"Unfiltered\")\n",
    "\n",
    "# ax2 plots data, filtering high outliers\n",
    "\n",
    "Q3 = max(corpus_df[\"utter_lens\"].values) * 0.75\n",
    "IQR = iqr(corpus_df[\"utter_lens\"].values)\n",
    "high_outliers = Q3 + 1.5 * IQR\n",
    "ax2.hist(list(filter(lambda x : x < high_outliers, corpus_df[\"utter_lens\"].values)), bins=bins)\n",
    "ax2.title.set_text(f\"High outliers ({high_outliers})\")\n",
    "\n",
    "# After calulating the high outliers, given how far the distribution is right-skewed, I chose an even lower value just for visualization purposes\n",
    "custom_outliers = 500\n",
    "ax3.hist(list(filter(lambda x : x < custom_outliers, corpus_df[\"utter_lens\"].values)), bins=bins)\n",
    "ax3.title.set_text(f\"Custom outliers ({custom_outliers})\")\n",
    "\n",
    "fig.text(0, 0.5, \"Number of utterance's with length X\", va=\"center\", rotation=\"vertical\")\n",
    "fig.text(0.5, 0, \"Length of utterance's\", ha=\"center\")\n",
    "plt.tight_layout()\n",
    "plt.show()"
   ]
  },
  {
   "cell_type": "markdown",
   "metadata": {},
   "source": [
    "SEE COMMENT\n",
    "<!-- TODO: write a short describtion stating that hypotheses 1 will be tested at this point, using appropriate methods\n",
    "TODO: see chatgpt thread for \n",
    "\n",
    "- als ik een distributie heb (hypothese is dat dit pareto distributie is, null variant is dit is niet ...), hoe test ik dit?\n",
    "\tDit is eigenlijk niet meer dan de formule opzoeken voor het checken van pareto distributie en toepassen\n",
    "\tOm dit in hypothese te verwoorden:\n",
    "\t- wat is mijn verwachte distributie\n",
    "\t- wat is mijn reeele distributie\n",
    "\t- gebruik deze om de P waarde te berekenen (P waarde dat dit wel/geen pareto is) -->"
   ]
  },
  {
   "cell_type": "markdown",
   "metadata": {},
   "source": [
    "## Hypotises 1: Pareto Distribution\n",
    "\n",
    "| **ID** | **Hypothesis**                                                  | **Type**               |\n",
    "|--------|-----------------------------------------------------------------|------------------------|\n",
    "| H₀     | The lengths of the entries do not follow a Pareto distribution. | Null Hypothesis        |\n",
    "| H₁     | The lengths of the entries follow a Pareto distribution.        | Alternative Hypothesis |\n",
    "\n",
    "This table organizes your hypotheses with unique IDs, the hypothesis text, and their type (null hypothesis).\n",
    "\n",
    "### Testing the Null Hypothesis\n",
    "\n",
    "To test whether the lengths of the entries in the corpus follow a Pareto distribution, we take the following steps:\n",
    "\n",
    "1. **Fit a Pareto Distribution:**\n",
    "    - Using Maximum Likelihood Estimation (MLE), we fit a Pareto distribution to the data, estimating its shape parameter (α) and scale parameter (xₘ).\n",
    "    - The Pareto distribution’s probability density function (PDF) is given by:\n",
    "      $$f(x) = \\frac{\\alpha x_m^\\alpha}{x^{\\alpha+1}} \\quad \\text{for} \\quad x \\geq x_m$$\n",
    "      where `α` is the shape parameter, and `xₘ` is the minimum possible value (scale).\n",
    "\n",
    "2. **Goodness-of-Fit Tests:**\n",
    "   - To evaluate the fit of the Pareto distribution to the data, we apply the following goodness-of-fit tests:\n",
    "     - **Kolmogorov-Smirnov (K-S) Test:** This non-parametric test compares the empirical cumulative distribution function (CDF) of the data with the CDF of the fitted Pareto distribution.\n",
    "     - **Anderson-Darling Test:** A more sensitive test that emphasizes differences in the tails of the distribution, where deviations from the Pareto distribution may be more prominent.\n",
    "     - **Chi-Square Goodness-of-Fit Test:** This test compares observed frequencies in different bins (based on the entry lengths) with expected frequencies under the Pareto distribution.\n",
    "\n",
    "3. **Compute p-Values:**\n",
    "   - For each test, we calculate the p-value. This tells us the probability of observing data as extreme as ours, assuming the null hypothesis is true.\n",
    "   - If the p-value is less than a significance level of 0.05, we reject the null hypothesis, concluding that the data does not follow a Pareto distribution.\n",
    "\n",
    "4. **Visualization:**\n",
    "   - We plot the observed distribution of the corpus entry lengths as a histogram, overlaid with the PDF of the fitted Pareto distribution.\n",
    "   - Additionally, we create a Q-Q plot to visualize how closely the quantiles of the observed data match the quantiles of a theoretical Pareto distribution.\n",
    "\n",
    "5. **Conclusion:**\n",
    "   - Based on the p-values and visualizations, we either reject or fail to reject the null hypothesis, providing insights into whether the lengths of the corpus entries align with a Pareto distribution."
   ]
  },
  {
   "cell_type": "code",
   "execution_count": 11,
   "metadata": {},
   "outputs": [],
   "source": [
    "# Use MLE to estimate the parameters of the distribution\n",
    "\n",
    "# TODO: apply MLE on the `corpus_df['utterances']`"
   ]
  },
  {
   "cell_type": "markdown",
   "metadata": {},
   "source": [
    "## Hypotises 2: Zyphs Law\n",
    "..."
   ]
  },
  {
   "cell_type": "markdown",
   "metadata": {},
   "source": [
    "## Hypotises 3: PCA Components\n",
    "..."
   ]
  },
  {
   "cell_type": "markdown",
   "metadata": {},
   "source": [
    "### Instantiate Vectorization Methods & Experiment Generalization\n",
    "\n",
    "The generalization includes creating a base class that will be used to interface with the text vectorization methods. This class will be extended for each of the text vectorization methods mentioned before. This is purly for orginization purposes and to make the code more readable."
   ]
  },
  {
   "cell_type": "markdown",
   "metadata": {},
   "source": [
    "#### Base class for text vectorization methods"
   ]
  },
  {
   "cell_type": "code",
   "execution_count": 12,
   "metadata": {},
   "outputs": [],
   "source": [
    "import numpy as np\n",
    "from sklearn.decomposition import PCA\n",
    "from collections.abc import Iterable\n",
    "\n",
    "class TextVectorizationMethod:\n",
    "    def __init__(self, method: str = \"unset\"):\n",
    "        self.method = method\n",
    "        self.model = None\n",
    "        self.reducer: PCA = PCA()\n",
    "        \n",
    "\n",
    "    def fit(self, corpus: Iterable[str]) -> None:\n",
    "        \"\"\"\n",
    "        Fits the vectorizer to the given corpus.\n",
    "\n",
    "        ## Params:\n",
    "            `corpus: Iterable[str]` A list of documents to fit the vectorizer on.\n",
    "\n",
    "        ## Returns:\n",
    "            `None`\n",
    "        \"\"\"\n",
    "        raise NotImplementedError\n",
    "\n",
    "    def transform(self) -> np.ndarray:\n",
    "        \"\"\"\n",
    "        Generates a matrix for the fitted corpus, using the concrete vectorization implementation (see `method` or `vectorizor` properties).\n",
    "\n",
    "        ## Params:\n",
    "            ...\n",
    "\n",
    "        ## Returns:\n",
    "            `np.ndarray` The vectorized fitted corpus.\n",
    "        \"\"\"\n",
    "        if self.model is None:\n",
    "            raise ValueError(\"Model has not been fitted. Call `.fit()` first.\")\n",
    "    \n",
    "    def reduce(self, matrix: np.ndarray, c: int | None =None) -> np.ndarray:\n",
    "        \"\"\"\n",
    "        Reduce the matrix using principal component analysis.\n",
    "\n",
    "        ## Params:\n",
    "            `matrix: np.ndarray` The matrix to recude.\n",
    "            `c: int | None` The number of components to use. If none, `c = min(n_samples, n_features)`\n",
    "\n",
    "        ## Returns:\n",
    "            `np.ndarray` The reduced matrix\n",
    "        \"\"\"\n",
    "        if c:\n",
    "            self.reducer = PCA(n_components=c)\n",
    "\n",
    "        return self.reducer.fit_transform(matrix)\n",
    "    \n",
    "    def longest_vector_len(self) -> int:\n",
    "        \"\"\"\n",
    "        Returns the length of the longest vector in the model's vocabulair.\n",
    "\n",
    "        ## Returns:\n",
    "           `int` The length of the longest vector in the model's vocabulair.\n",
    "        \"\"\"\n",
    "        raise NotImplementedError"
   ]
  },
  {
   "cell_type": "markdown",
   "metadata": {},
   "source": [
    "#### Word2Vec"
   ]
  },
  {
   "cell_type": "code",
   "execution_count": 13,
   "metadata": {},
   "outputs": [],
   "source": [
    "from gensim.models import Word2Vec\n",
    "\n",
    "class Word2VecVectorization(TextVectorizationMethod):\n",
    "    def __init__(self):\n",
    "        super().__init__(method='word2vec')\n",
    "\n",
    "    def fit(self, corpus: list[str]):\n",
    "        # Train the Word2Vec model\n",
    "        self.model = Word2Vec(sentences=corpus, sg=1, workers=4)\n",
    "\n",
    "        # https://radimrehurek.com/gensim/models/word2vec.html\n",
    "        # > sg ({0, 1}, optional) – Training algorithm: 1 for skip-gram; otherwise CBOW.\n",
    "\n",
    "    def transform(self):\n",
    "        super().transform()\n",
    "        # Generate the matrix\n",
    "        return np.array([self.model.wv[word] for word in self.model.wv.index_to_key])\n",
    "    \n",
    "    def longest_vector_len(self):\n",
    "        return max(len(self.model.wv[word]) for word in self.model.wv.index_to_key)"
   ]
  },
  {
   "cell_type": "markdown",
   "metadata": {},
   "source": [
    "TODO: describe that I will first generate the matrixes using these methods and store those in seperate files, in order to make this study reproducable"
   ]
  },
  {
   "cell_type": "markdown",
   "metadata": {},
   "source": [
    "#### CBOW (Continuous Bag of Words)"
   ]
  },
  {
   "cell_type": "code",
   "execution_count": 14,
   "metadata": {},
   "outputs": [],
   "source": [
    "from gensim.models import Word2Vec\n",
    "\n",
    "\n",
    "class CBOWVectorization(TextVectorizationMethod):\n",
    "    def __init__(self):\n",
    "        super().__init__(method='cbow')\n",
    "\n",
    "    def fit(self, corpus: list[str]):\n",
    "        # Train the CBOW model\n",
    "        self.model = Word2Vec(\n",
    "            sentences=corpus, \n",
    "            sg=0, # sg=0 means CBOW\n",
    "            workers=4\n",
    "        )\n",
    "\n",
    "    def transform(self):\n",
    "        super().transform()\n",
    "        # Generate the matrix\n",
    "        return np.array([self.model.wv[word] for word in self.model.wv.index_to_key])\n",
    "    \n",
    "    def longest_vector_len(self):\n",
    "        return max(len(self.model.wv[word]) for word in self.model.wv.index_to_key)"
   ]
  },
  {
   "cell_type": "markdown",
   "metadata": {},
   "source": [
    "#### GloVe\n",
    "\n",
    "See [kaggle.com/datasets/danielwillgeorge/glove6b100dtxt](https://www.kaggle.com/datasets/danielwillgeorge/glove6b100dtxt) for the pretrained glove model used."
   ]
  },
  {
   "cell_type": "code",
   "execution_count": 15,
   "metadata": {},
   "outputs": [],
   "source": [
    "import kagglehub\n",
    "import shutil\n",
    "\n",
    "# Download latest version\n",
    "path = kagglehub.dataset_download(\"danielwillgeorge/glove6b100dtxt\")\n",
    "glove_fname = \"glove.6B.100d.txt\"\n",
    "glove_fsrc = os.path.join(path, glove_fname)\n",
    "\n",
    "# Copy the file to the data folder\n",
    "glove_ftarget = os.path.join(study_data_dir, glove_fname)\n",
    "if not os.path.exists(glove_ftarget):\n",
    "    shutil.copy(glove_fsrc, glove_ftarget)"
   ]
  },
  {
   "cell_type": "code",
   "execution_count": 16,
   "metadata": {},
   "outputs": [],
   "source": [
    "import numpy as np\n",
    "\n",
    "\n",
    "class GloVeVectorization(TextVectorizationMethod):\n",
    "    def __init__(self, glove_path: str | None = None):\n",
    "        super().__init__(method='glove')\n",
    "        if not glove_path:\n",
    "            glove_path = os.path.join(study_data_dir, 'glove.6B.100d.txt')\n",
    "        self.glove_path = glove_path\n",
    "        self.word_vectors = {}\n",
    "\n",
    "    def fit(self, corpus: Iterable[str]):\n",
    "        # Load pre-trained GloVe vectors\n",
    "        with open(self.glove_path, 'r', encoding='utf-8') as f:\n",
    "            for line in f:\n",
    "                values = line.split()\n",
    "                word = values[0]\n",
    "                vector = np.array(values[1:], dtype='float32')\n",
    "                self.word_vectors[word] = vector\n",
    "        self.model = self.word_vectors  # Model is now the loaded vectors\n",
    "\n",
    "    def transform(self) -> np.ndarray:\n",
    "        super().transform()  # Check if model is fitted\n",
    "        matrix = []\n",
    "        \n",
    "        for word in self.model:\n",
    "            matrix.append(self.model[word])\n",
    "\n",
    "        return np.array(matrix)\n",
    "\n",
    "    def longest_vector_len(self) -> int:\n",
    "        \"\"\"\n",
    "        Finds the length of the longest vector in the GloVe model.\n",
    "        \n",
    "        ## Returns:\n",
    "            `int` The length of the longest vector.\n",
    "        \"\"\"\n",
    "        return max(len(vector) for vector in self.word_vectors.values())"
   ]
  },
  {
   "cell_type": "markdown",
   "metadata": {},
   "source": [
    "#### FastText (skip-gram) "
   ]
  },
  {
   "cell_type": "code",
   "execution_count": 17,
   "metadata": {},
   "outputs": [],
   "source": [
    "# See: https://pypi.org/project/fasttext-wheel/#usage-overview\n",
    "import fasttext\n",
    "\n",
    "\n",
    "class FastTextVectorization(TextVectorizationMethod):\n",
    "    def __init__(self):\n",
    "        super().__init__(method='fasttext')\n",
    "        self.model = None\n",
    "\n",
    "    def fit(self, corpus: list[str]):\n",
    "        # FastText implementation expects a txt file instead of a list of strings\n",
    "        _ = os.path.join(study_data_dir, 'corpus.txt')\n",
    "        corpus = [ x.replace('\\n', '') for x in corpus ] # We need to remove newlines from the corpus\n",
    "        with open(os.path.join(study_data_dir, 'corpus.txt'), 'w') as corpus_f:\n",
    "            corpus_f.write('\\n'.join(corpus))\n",
    "        \n",
    "        # Train the FastText model\n",
    "        self.model = fasttext.train_unsupervised(_, model='skipgram')\n",
    "\n",
    "    def transform(self):\n",
    "        super().transform()\n",
    "        # Generate the matrix\n",
    "        return np.array([self.model.get_word_vector(word) for word in self.model.get_words()])\n",
    "    \n",
    "    def longest_vector_len(self):\n",
    "        return max(len(self.model.get_word_vector(word)) for word in self.model.get_words())"
   ]
  },
  {
   "cell_type": "markdown",
   "metadata": {},
   "source": [
    "### Experiment"
   ]
  },
  {
   "cell_type": "code",
   "execution_count": 18,
   "metadata": {},
   "outputs": [],
   "source": [
    "vectorizers: list[TextVectorizationMethod] = [\n",
    "    Word2VecVectorization(),\n",
    "    CBOWVectorization(),\n",
    "    GloVeVectorization(),\n",
    "    FastTextVectorization()\n",
    "]"
   ]
  },
  {
   "cell_type": "code",
   "execution_count": 19,
   "metadata": {},
   "outputs": [
    {
     "name": "stderr",
     "output_type": "stream",
     "text": [
      "Fitting corpus to fasttext: 100%|██████████| 4/4 [00:41<00:00, 10.46s/it]\n"
     ]
    }
   ],
   "source": [
    "from tqdm import tqdm\n",
    "\n",
    "# Initialize tqdm with a dynamic description\n",
    "pbar = tqdm(vectorizers, desc=\"Starting vectorizer fitting\")\n",
    "\n",
    "# Fit each vectorizer and update the description dynamically\n",
    "for model in pbar:\n",
    "    pbar.set_description(f\"Fitting corpus to {model.method}\")\n",
    "    model.fit(corpus_df['utterances'].values)"
   ]
  },
  {
   "cell_type": "code",
   "execution_count": 20,
   "metadata": {},
   "outputs": [
    {
     "name": "stderr",
     "output_type": "stream",
     "text": [
      "Transforming corpus using word2vec:   0%|          | 0/4 [00:00<?, ?it/s]"
     ]
    },
    {
     "name": "stdout",
     "output_type": "stream",
     "text": [
      "=== Sanity checks ===\n",
      "Number of non-zero elements in the matrix: 9100\n"
     ]
    },
    {
     "name": "stderr",
     "output_type": "stream",
     "text": [
      "Transforming corpus using cbow:   0%|          | 0/4 [00:00<?, ?it/s]    "
     ]
    },
    {
     "name": "stdout",
     "output_type": "stream",
     "text": [
      "=== Sanity checks ===\n",
      "Number of non-zero elements in the matrix: 9100\n"
     ]
    },
    {
     "name": "stderr",
     "output_type": "stream",
     "text": [
      "Transforming corpus using glove:   0%|          | 0/4 [00:00<?, ?it/s]"
     ]
    },
    {
     "name": "stdout",
     "output_type": "stream",
     "text": [
      "=== Sanity checks ===\n",
      "Number of non-zero elements in the matrix: 40000000\n"
     ]
    },
    {
     "name": "stderr",
     "output_type": "stream",
     "text": [
      "Transforming corpus using fasttext:   0%|          | 0/4 [00:15<?, ?it/s]"
     ]
    },
    {
     "name": "stdout",
     "output_type": "stream",
     "text": [
      "=== Sanity checks ===\n",
      "Number of non-zero elements in the matrix: 2940500\n"
     ]
    }
   ],
   "source": [
    "pbar = tqdm(total=len(vectorizers))\n",
    "\n",
    "for model in vectorizers:\n",
    "    pbar.set_description(f\"Transforming corpus using {model.method}\")\n",
    "    matrix = model.transform()\n",
    "\n",
    "    print(\"=== Sanity checks ===\")\n",
    "    print(f\"Number of non-zero elements in the matrix: {np.count_nonzero(matrix)}\")\n",
    "\n",
    "    initial_value_for_c = min(matrix.shape)\n",
    "    values_for_c = [ i for i in range(initial_value_for_c, 0, -1) ]\n",
    "    for c in values_for_c:\n",
    "        reduced_matrix = model.reduce(matrix, c)"
   ]
  },
  {
   "cell_type": "markdown",
   "metadata": {},
   "source": [
    "## Sources\n",
    "\n",
    "Inspiration for vectorization methods:\n",
    "https://neptune.ai/blog/vectorization-techniques-in-nlp-guide\n",
    "\n",
    "Explanation of cumulative explained variance:\n",
    "https://en.wikipedia.org/wiki/Explained_variation\n",
    "\n",
    "Statistical hypothesis testing:\n",
    "https://en.wikipedia.org/wiki/Statistical_hypothesis_test\n",
    "\n",
    "Perplexity thread used:\n",
    "https://www.perplexity.ai/collections/staistical-analysis-of-semanti-kIxRGTaZQYqP4ZwkAvJLtQ\n",
    "\n",
    "```BibTex\n",
    "@InProceedings{Danescu-Niculescu-Mizil+Lee:11a,\n",
    "    author={Cristian Danescu-Niculescu-Mizil and Lillian Lee},\n",
    "    title={Chameleons in imagined conversations:\n",
    "        A new approach to understanding coordination of linguistic style in dialogs.},\n",
    "    booktitle={Proceedings of the, Workshop on Cognitive Modeling and Computational Linguistics, ACL 2011},\n",
    "    year={2011},\n",
    "    url={https://www.cs.cornell.edu/~cristian/Chameleons_in_imagined_conversations.html}\n",
    "}\n",
    "```"
   ]
  }
 ],
 "metadata": {
  "kernelspec": {
   "display_name": "stats",
   "language": "python",
   "name": "python3"
  },
  "language_info": {
   "codemirror_mode": {
    "name": "ipython",
    "version": 3
   },
   "file_extension": ".py",
   "mimetype": "text/x-python",
   "name": "python",
   "nbconvert_exporter": "python",
   "pygments_lexer": "ipython3",
   "version": "3.12.5"
  }
 },
 "nbformat": 4,
 "nbformat_minor": 2
}
