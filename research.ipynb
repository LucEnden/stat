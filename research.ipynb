{
 "cells": [
  {
   "cell_type": "markdown",
   "metadata": {},
   "source": [
    "TODO: print the version of ALL the libraries I will be using in this study"
   ]
  },
  {
   "cell_type": "markdown",
   "metadata": {},
   "source": [
    "<!-- FIRST TITLE -->\n",
    "<!-- # Preservation of Semantics Through Various Text Vectorization Methods on a Movie Dialouge Corpus: A Statistical Comparison -->\n",
    "\n",
    "<!-- SECOND TITLE -->\n",
    "<!-- # Output Of Different Semantic Text Vectorization Methods: A Statistical Comparison -->\n",
    "\n",
    "<!-- THIRD TITLE -->\n",
    "<!-- # Principle Component Analysis on The Output of Different Semantic Text Vectorization Methods: A Statistical Study -->\n",
    "\n",
    "<!-- FIRST CHATGPT TITLE -->\n",
    "# Quantifying Information Retention in Matrix Reconstruction: A Comparative Analysis of Semantic Vectorization Methods Using PCA\n",
    "TODO: this block is essentially the title page of the study paper, hence I need to add stuf here that is usually found on the title page of a study paper"
   ]
  },
  {
   "cell_type": "markdown",
   "metadata": {},
   "source": [
    "## Abstract\n",
    "TODO: add an abstract"
   ]
  },
  {
   "cell_type": "markdown",
   "metadata": {},
   "source": [
    "## Goal\n",
    "The goal of this research is to evaluate and compare the effectiveness of different semantic vectorization methods in retaining information during matrix reconstruction, by analyzing the number of Principal Component Analysis (PCA) components required to preserve at least 80% of the original information across various vectorization approaches.\n",
    "\n",
    "The semantic vectorization methods will be determined later in this document and will be treated as black boxes for the purpose of this study. The focus will be on the effectiveness of these methods in retaining information during matrix reconstruction, rather than the specifics of the vectorization techniques themselves."
   ]
  },
  {
   "cell_type": "markdown",
   "metadata": {},
   "source": [
    "## Type of study\n",
    "TODO: add the fact that this study uses statistical methods to compare different text vectorization methods outcomes, I.E. statistical comparison of (sparse?) matrices"
   ]
  },
  {
   "cell_type": "markdown",
   "metadata": {},
   "source": [
    "## Research questions\n",
    "\n",
    "TODO: add the research questions\n",
    "<!-- \n",
    "Main research question:\n",
    "- \n",
    " -->"
   ]
  },
  {
   "cell_type": "markdown",
   "metadata": {},
   "source": [
    "<!-- FEEDBACK FROM TEACHER: be wary of the fact that you dont change your hypothesis midway trough your study based on findings -->\n",
    "## Hypotheses\n",
    "\n",
    "The following hypotheses are tested in this research:\n",
    "<!-- 1. All the different text vectorization methods will produce a sparse matrix as output. -->\n",
    "<!-- QUESTION FOR TEACHER: this isnt really a statistical question is it? depending on how a sparse matrix is defined and how you detirmine this, this either is or isnt a question of statistics -->\n",
    "<!-- FEEDBACK: do you need to see this as a sparse matrix, or can you just view it as a matrix -->\n",
    "\n",
    "<!-- 1. The resulting matrixes from different text vectorization methods are statistically different. -->\n",
    "<!-- QUESTION FOR TEACHER: this seems like a proper null hypotheses I can test using statistical methods, like comparing disrtibutions on a corpus entry level -->\n",
    "<!-- FEEDBACK: its a bit to vague, lets brainstorm some ideas for a hypotheses together -->\n",
    "\n",
    "<!-- Brainstorm for hypotheses:\n",
    "Hoeveel informatie zit er in de matrix? In andere woorden:\n",
    "- Ik heb 100 cooficienten (losse vector waardes), hoeveel cooficienten heb ik nodig om de matrix terug te construeren zonder informatie te verliezen?\n",
    "    - Voor iedere vectorizatie methode, hoeveel PCA componenten heb ik nodig om minimaal 80% van de informatie te behouden?\n",
    "    - Welke van de vectorisatie methodes heeft het minsten componenten nodig?\n",
    "- Is de ene matrix meer sparser dan de ander?\n",
    "-->\n",
    "How much information is in the matrix? In other words:\n",
    "- I have 100 cooficients (single vector values), how many cooficients do I need to construct the matrix back without losing information?\n",
    "    - For each vectorization method, how many PCA components do I need to retain at least 80% of the information?\n",
    "    - Which of the vectorization methods needs the fewest components?\n",
    "- Is one matrix more sparser than the other?"
   ]
  },
  {
   "cell_type": "markdown",
   "metadata": {},
   "source": [
    "## Text vectorization methods\n",
    "\n",
    "TODO: describe the text vectorization methods I will be using in this study, which are:\n",
    "- Word2Vec\n",
    "- CBOW (Continuous Bag of Words)\n",
    "- GloVe\n",
    "- FastText\n",
    "\n",
    "### Implementation providers\n",
    "\n",
    "TODO: describe in markdown codeblocks, using pip install commands, which implementation provider we will be using.\n",
    "For example: Word2Vec implementation is provided by gensim\n",
    "\n",
    "### Implementation Details\n",
    "TODO: describe that we need to look into a couple of implementation details, including but not limited to:\n",
    "- whether the vectorization method expects a certain level of preprocessing or wheter it does that internally\n",
    "- we also need to think about the impect that preprocessing might have on the output of each method\n",
    "    - I would expect a matrix output from a word-tokenized corpus to be bigger then a sentence-tokenized corpus\n",
    "\n",
    "| Method   | Preprocesses internally? | Expects ... tokens |\n",
    "|----------|--------------------------|--------------------|\n",
    "| Word2Vec | Yes/No                   | word/sentence      |\n",
    "| CBOW     | Yes/No                   | word/sentence      |\n",
    "| GloVe    | Yes/No                   | word/sentence      |\n",
    "| FastText | Yes/No                   | word/sentence      |\n",
    "\n",
    "TODO: discuss with teacher whether I should include the preprocessing in the vectorization method or just presume this as being part of the black box (i.e. the vectorization method)"
   ]
  },
  {
   "cell_type": "markdown",
   "metadata": {},
   "source": [
    "## Data gathering\n",
    "\n",
    "For my corpus I will be using a [dataset consisting of conversational movie dialouge](https://convokit.cornell.edu/documentation/movie.html).\n",
    "My choice for this dataset is mostly cause of convenience sakes ... TODO: expand on this"
   ]
  },
  {
   "cell_type": "code",
   "execution_count": 1,
   "metadata": {},
   "outputs": [
    {
     "name": "stdout",
     "output_type": "stream",
     "text": [
      "Data folder already exists\n"
     ]
    }
   ],
   "source": [
    "import os.path\n",
    "\n",
    "study_data_dir = os.path.abspath(\"./data\") # We use absolute path to avoid any potential path issues\n",
    "\n",
    "# Create data folder if it does not exist\n",
    "if not os.path.exists(study_data_dir):\n",
    "    print(\"Creating data folder\")\n",
    "    os.makedirs(study_data_dir)\n",
    "else:\n",
    "    print(\"Data folder already exists\")"
   ]
  },
  {
   "cell_type": "code",
   "execution_count": 2,
   "metadata": {},
   "outputs": [
    {
     "name": "stdout",
     "output_type": "stream",
     "text": [
      "Corpus already downloaded.\n",
      "Corpus is loaded!\n"
     ]
    }
   ],
   "source": [
    "from convokit import Corpus, download\n",
    "\n",
    "corpus_name = \"movie-corpus\"\n",
    "corpus_fpath = study_data_dir + os.path.sep + corpus_name + \".zip\"\n",
    "\n",
    "# Download the corpus if it doesn't exist\n",
    "if not os.path.exists(corpus_fpath):\n",
    "    print(\"Downloading corpus...\")\n",
    "    corpus = Corpus(filename=download(corpus_name, data_dir=study_data_dir))\n",
    "else:\n",
    "    print(\"Corpus already downloaded.\")\n",
    "    corpus_dir = study_data_dir + os.path.sep + corpus_name + os.path.sep\n",
    "    corpus = Corpus(filename=corpus_dir) \n",
    "    # the file parameter can be quite confusing, as it actually expects the unziped corpus as a directory\n",
    "\n",
    "print(\"Corpus is loaded!\")"
   ]
  },
  {
   "cell_type": "code",
   "execution_count": 3,
   "metadata": {},
   "outputs": [
    {
     "name": "stdout",
     "output_type": "stream",
     "text": [
      "Number of Speakers: 9035\n",
      "Number of Utterances: 304713\n",
      "Number of Conversations: 83097\n"
     ]
    }
   ],
   "source": [
    "corpus.print_summary_stats()\n",
    "# Number of Speakers: 9035\n",
    "# Number of Utterances: 304713\n",
    "# Number of Conversations: 83097"
   ]
  },
  {
   "cell_type": "markdown",
   "metadata": {},
   "source": [
    "We will be using the `corpus.iter_utterances()` method to generate a list of strings, which will be used as the input for the different text vectorization methods."
   ]
  },
  {
   "cell_type": "code",
   "execution_count": 4,
   "metadata": {},
   "outputs": [
    {
     "data": {
      "text/plain": [
       "['They do not!',\n",
       " 'They do to!',\n",
       " 'I hope so.',\n",
       " 'She okay?',\n",
       " \"Let's go.\",\n",
       " 'Wow',\n",
       " \"Okay -- you're gonna need to learn how to lie.\",\n",
       " 'No',\n",
       " 'I\\'m kidding.  You know how sometimes you just become this \"persona\"?  And you don\\'t know how to quit?',\n",
       " 'Like my fear of wearing pastels?']"
      ]
     },
     "execution_count": 4,
     "metadata": {},
     "output_type": "execute_result"
    }
   ],
   "source": [
    "corpus_texts = [utt.text for utt in corpus.iter_utterances()]\n",
    "corpus_texts[:10]"
   ]
  },
  {
   "cell_type": "markdown",
   "metadata": {},
   "source": [
    "### Discriptive Statistics\n",
    "\n",
    "TODO: add that we will explore the corpus using discriptive statistics to get a better understanding of the data"
   ]
  },
  {
   "cell_type": "code",
   "execution_count": 5,
   "metadata": {},
   "outputs": [
    {
     "name": "stdout",
     "output_type": "stream",
     "text": [
      "Their are 304713 utterances in the corpus\n"
     ]
    }
   ],
   "source": [
    "print(f\"Their are {len(corpus_texts)} utterances in the corpus\")\n",
    "# expected to be the same as in the `corpus.print_summary_stats()` output, i.e. 304713"
   ]
  },
  {
   "cell_type": "code",
   "execution_count": 6,
   "metadata": {},
   "outputs": [
    {
     "name": "stdout",
     "output_type": "stream",
     "text": [
      "Shortest Utterance:   \n",
      "\t(len of 0)\n",
      "Longest Utterance:  Then let's begin with the story itself. It's a story of the Grail myth...And although there are several variations, my favorite begins with the Fisher King as a young boy... who had to spend a night alone in the forest to prove his courage... and during that night, he is visited by a sacred vision. Out of the fire, appears the Holy Grail - God's highest symbol of divine grace. And a voice says to the boy, \"You shall be the guardian of the Grail, that it may heal the hearts of men\"...But the boy was overcome ...Innocent and foolish, he was blinded by greater visions - a life ahead filled with beauty and glory, hope and power...Tears filled his eyes as he sensed his own... invincibility. A boy's tears of naive wonder and inspiration. and in this state of...radical amazement...he felt for a brief moment, not like a boy, but like God...  ...And so he reached into the fire to take the Grail. And the Grail vanished. And the boy hands were left caught in the flames...leaving him wounded and ashamed at what his recklessness had lost him. When he became King, he was determined to reclaim his destiny and find the Grail... But with each year that passed, with each campaign he fought, the Grail remained lost, and this wound he suffered in the fire grew worse... He became a bitter man. Life for him lost it's reason. With each disappointment, with each betrayal... with each loss ... this wound would grow... Soon the land began to spoil from neglect and his people starved...Until finally, the King lost all faith in God's existance and in man's value...He lost his ability to love or be loved And he was so sick with experience... that he started to die. As the years went on, his bravest knights would search for the Grail that would heal their King and make them the most respected and valued men in the land, but to no avail.  Pretty soon, finding the Grail became a ruthless struggle between ambitious men vying for the King's power, which only confirmed the King's worst suspicions of man, causing his wound to grow. His only hope, he thought, was death. Then one day, a fool was brought in to the King to cheer him.  He was a simple-minded man... not particularly skilled...or admired... He tells the King some jokes...sing him some songs, but the King feels even worse...Finally, the fool says, \"What is it that hurts you so much? How can I help?\"...And the King says, \"I need a sip of water to cool my throat\"...So, the fool takes a cup from the bedstand, fills it with water and hands it to the King...Suddenly, the King feels a lot better. And when he looks to his hands, he sees that it was the Holy Grail the fool handed him...an ordinary cup that had been beside his bed all along...And the King asks, \"How can this be?...how could you find what all my knights and wisest men could not find\"? And the fool answers, \"I don't know. I only knew you were thirsty.\"... And for the first time since he was a boy, the King felt more than a man - not because he was touched by God's glory...but rather, by the compassion of a fool. \n",
      "\t(len of 3046)\n"
     ]
    }
   ],
   "source": [
    "# shortest and longest utterances\n",
    "shortest_utt = min(corpus_texts, key=len)\n",
    "print(\"Shortest Utterance: \", shortest_utt, f\"\\n\\t(len of {len(shortest_utt)})\")\n",
    "\n",
    "longest_utt = max(corpus_texts, key=len)\n",
    "print(\"Longest Utterance: \", longest_utt, f\"\\n\\t(len of {len(longest_utt)})\")"
   ]
  },
  {
   "cell_type": "code",
   "execution_count": 7,
   "metadata": {},
   "outputs": [
    {
     "name": "stdout",
     "output_type": "stream",
     "text": [
      "Number of empty utterance's: 267\n"
     ]
    }
   ],
   "source": [
    "# number of empty utterance's\n",
    "empty_utterances = [ i for i in corpus_texts if len(i) == 0 ]\n",
    "print(f\"Number of empty utterance's: {len(empty_utterances)}\")"
   ]
  },
  {
   "cell_type": "code",
   "execution_count": 8,
   "metadata": {},
   "outputs": [
    {
     "data": {
      "image/png": "[encoded data removed]",
      "text/plain": [
       "<Figure size 640x480 with 1 Axes>"
      ]
     },
     "metadata": {},
     "output_type": "display_data"
    }
   ],
   "source": [
    "# plot a histogram of the length of all the utterance's\n",
    "import matplotlib.pyplot as plt\n",
    "\n",
    "plt.hist([len(i) for i in corpus_texts])\n",
    "plt.xlabel(\"Length of utterance's\")\n",
    "plt.ylabel(\"Number of utterance's with length X\")\n",
    "plt.show()"
   ]
  },
  {
   "cell_type": "markdown",
   "metadata": {},
   "source": [
    "### Preprocessing\n",
    "\n",
    "TODO: describe that minimal preprocessing will be done on the data, as the focus is on the vectorization methods and not the data itself. this is to keep this study as simple as possible.\n",
    "Bellow is a list of steps I will be applying during preprocessing:\n",
    "- Remove any empty strings \n",
    "- Transform all text to be lower case\n",
    "- Remove JSON string scape sequences (i.e. forward slash followed by apostrafie, \\')\n",
    "- "
   ]
  },
  {
   "cell_type": "markdown",
   "metadata": {},
   "source": [
    "## Vecotrizing the corpus using the chosen vectorization methods\n",
    "\n",
    "TODO: describe that we will now vecotirze the corpus using the vectorization methods chosen earlier."
   ]
  },
  {
   "cell_type": "markdown",
   "metadata": {},
   "source": [
    "### Base class for text vectorization methods\n",
    "\n",
    "The code block below shows a base class that will be used to interface with the text vectorization methods. This class will be extended for each of the text vectorization methods mentioned above. This is purly for orginization purposes and to make the code more readable."
   ]
  },
  {
   "cell_type": "code",
   "execution_count": 9,
   "metadata": {},
   "outputs": [],
   "source": [
    "import numpy as np\n",
    "from collections.abc import Iterable\n",
    "\n",
    "class TextVectorizationMethod:\n",
    "    def __init__(self, method: str):\n",
    "        self.method = method\n",
    "\n",
    "    def fit(self, corpus: Iterable):\n",
    "        raise NotImplementedError\n",
    "\n",
    "    def generate_matrix(self) -> np.ndarray:\n",
    "        raise NotImplementedError"
   ]
  },
  {
   "cell_type": "markdown",
   "metadata": {},
   "source": [
    "### Word2Vec"
   ]
  },
  {
   "cell_type": "code",
   "execution_count": 10,
   "metadata": {},
   "outputs": [],
   "source": [
    "from gensim.models import Word2Vec\n",
    "\n",
    "class Word2VecVectorization(TextVectorizationMethod):\n",
    "    def __init__(self):\n",
    "        super().__init__(method='word2vec')\n",
    "        self.model = None\n",
    "\n",
    "    def fit(self, corpus: list[str]):\n",
    "        # Train the Word2Vec model\n",
    "        self.model = Word2Vec(sentences=corpus, vector_size=100, window=5, min_count=1, workers=4)\n",
    "\n",
    "    def generate_matrix(self) -> np.ndarray:\n",
    "        if self.model is None:\n",
    "            raise ValueError(\"Model has not been trained. Call fit() first.\")\n",
    "        # Generate the matrix\n",
    "        matrix = np.array([self.model.wv[word] for word in self.model.wv.index_to_key])\n",
    "        return matrix"
   ]
  },
  {
   "cell_type": "code",
   "execution_count": 11,
   "metadata": {},
   "outputs": [
    {
     "name": "stdout",
     "output_type": "stream",
     "text": [
      "(93, 100)\n"
     ]
    }
   ],
   "source": [
    "# Example usage\n",
    "word2vec_vectorization = Word2VecVectorization()\n",
    "word2vec_vectorization.fit(corpus_texts)\n",
    "matrix = word2vec_vectorization.generate_matrix()\n",
    "print(matrix.shape)"
   ]
  },
  {
   "cell_type": "markdown",
   "metadata": {},
   "source": [
    "TODO: describe that I will first generate the matrixes using these methods and store those in seperate files, in order to make this study reproducable"
   ]
  },
  {
   "cell_type": "markdown",
   "metadata": {},
   "source": [
    "### CBOW (Continuous Bag of Words)"
   ]
  },
  {
   "cell_type": "code",
   "execution_count": 12,
   "metadata": {},
   "outputs": [],
   "source": [
    "# TODO: choose implementation for the CBOW model"
   ]
  },
  {
   "cell_type": "markdown",
   "metadata": {},
   "source": [
    "### GloVe"
   ]
  },
  {
   "cell_type": "code",
   "execution_count": 13,
   "metadata": {},
   "outputs": [],
   "source": [
    "# TODO: choose implementation for the GloVe model"
   ]
  },
  {
   "cell_type": "markdown",
   "metadata": {},
   "source": [
    "### FastText"
   ]
  },
  {
   "cell_type": "code",
   "execution_count": 14,
   "metadata": {},
   "outputs": [],
   "source": [
    "# TODO: choose implementation for the FastText model"
   ]
  },
  {
   "cell_type": "markdown",
   "metadata": {},
   "source": [
    "## Sources\n",
    "https://neptune.ai/blog/vectorization-techniques-in-nlp-guide\n",
    "\n",
    "```BibTex\n",
    "@InProceedings{Danescu-Niculescu-Mizil+Lee:11a,\n",
    "    author={Cristian Danescu-Niculescu-Mizil and Lillian Lee},\n",
    "    title={Chameleons in imagined conversations:\n",
    "        A new approach to understanding coordination of linguistic style in dialogs.},\n",
    "    booktitle={Proceedings of the, Workshop on Cognitive Modeling and Computational Linguistics, ACL 2011},\n",
    "    year={2011},\n",
    "    url={https://www.cs.cornell.edu/~cristian/Chameleons_in_imagined_conversations.html}\n",
    "}\n",
    "```"
   ]
  }
 ],
 "metadata": {
  "kernelspec": {
   "display_name": "stats",
   "language": "python",
   "name": "python3"
  },
  "language_info": {
   "codemirror_mode": {
    "name": "ipython",
    "version": 3
   },
   "file_extension": ".py",
   "mimetype": "text/x-python",
   "name": "python",
   "nbconvert_exporter": "python",
   "pygments_lexer": "ipython3",
   "version": "3.12.5"
  }
 },
 "nbformat": 4,
 "nbformat_minor": 2
}
